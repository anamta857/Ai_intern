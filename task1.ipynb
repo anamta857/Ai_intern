{
 "cells": [
  {
   "cell_type": "markdown",
   "id": "99dedcb4-b63c-46a4-b3b1-dcb93bceb861",
   "metadata": {},
   "source": [
    "# Digipex Internship Task 01: COVID-19 Data Analysis"
   ]
  },
  {
   "cell_type": "markdown",
   "id": "9d6697b4-3116-482f-846e-04bfda3e5bab",
   "metadata": {},
   "source": [
    "# Step 1 Upload dataset"
   ]
  },
  {
   "cell_type": "code",
   "execution_count": 1,
   "id": "03d0d12e-24d6-4755-beba-a2fd278eab5a",
   "metadata": {},
   "outputs": [
    {
     "data": {
      "text/html": [
       "<div>\n",
       "<style scoped>\n",
       "    .dataframe tbody tr th:only-of-type {\n",
       "        vertical-align: middle;\n",
       "    }\n",
       "\n",
       "    .dataframe tbody tr th {\n",
       "        vertical-align: top;\n",
       "    }\n",
       "\n",
       "    .dataframe thead th {\n",
       "        text-align: right;\n",
       "    }\n",
       "</style>\n",
       "<table border=\"1\" class=\"dataframe\">\n",
       "  <thead>\n",
       "    <tr style=\"text-align: right;\">\n",
       "      <th></th>\n",
       "      <th>Date</th>\n",
       "      <th>Country/Region</th>\n",
       "      <th>Province/State</th>\n",
       "      <th>Lat</th>\n",
       "      <th>Long</th>\n",
       "      <th>Confirmed</th>\n",
       "      <th>Recovered</th>\n",
       "      <th>Deaths</th>\n",
       "    </tr>\n",
       "  </thead>\n",
       "  <tbody>\n",
       "    <tr>\n",
       "      <th>0</th>\n",
       "      <td>2020-01-22</td>\n",
       "      <td>Afghanistan</td>\n",
       "      <td>NaN</td>\n",
       "      <td>33.939110</td>\n",
       "      <td>67.709953</td>\n",
       "      <td>0</td>\n",
       "      <td>0.0</td>\n",
       "      <td>0</td>\n",
       "    </tr>\n",
       "    <tr>\n",
       "      <th>1</th>\n",
       "      <td>2020-01-23</td>\n",
       "      <td>Afghanistan</td>\n",
       "      <td>NaN</td>\n",
       "      <td>33.939110</td>\n",
       "      <td>67.709953</td>\n",
       "      <td>0</td>\n",
       "      <td>0.0</td>\n",
       "      <td>0</td>\n",
       "    </tr>\n",
       "    <tr>\n",
       "      <th>2</th>\n",
       "      <td>2020-01-24</td>\n",
       "      <td>Afghanistan</td>\n",
       "      <td>NaN</td>\n",
       "      <td>33.939110</td>\n",
       "      <td>67.709953</td>\n",
       "      <td>0</td>\n",
       "      <td>0.0</td>\n",
       "      <td>0</td>\n",
       "    </tr>\n",
       "    <tr>\n",
       "      <th>3</th>\n",
       "      <td>2020-01-25</td>\n",
       "      <td>Afghanistan</td>\n",
       "      <td>NaN</td>\n",
       "      <td>33.939110</td>\n",
       "      <td>67.709953</td>\n",
       "      <td>0</td>\n",
       "      <td>0.0</td>\n",
       "      <td>0</td>\n",
       "    </tr>\n",
       "    <tr>\n",
       "      <th>4</th>\n",
       "      <td>2020-01-26</td>\n",
       "      <td>Afghanistan</td>\n",
       "      <td>NaN</td>\n",
       "      <td>33.939110</td>\n",
       "      <td>67.709953</td>\n",
       "      <td>0</td>\n",
       "      <td>0.0</td>\n",
       "      <td>0</td>\n",
       "    </tr>\n",
       "    <tr>\n",
       "      <th>...</th>\n",
       "      <td>...</td>\n",
       "      <td>...</td>\n",
       "      <td>...</td>\n",
       "      <td>...</td>\n",
       "      <td>...</td>\n",
       "      <td>...</td>\n",
       "      <td>...</td>\n",
       "      <td>...</td>\n",
       "    </tr>\n",
       "    <tr>\n",
       "      <th>72085</th>\n",
       "      <td>2020-10-13</td>\n",
       "      <td>Zimbabwe</td>\n",
       "      <td>NaN</td>\n",
       "      <td>-19.015438</td>\n",
       "      <td>29.154857</td>\n",
       "      <td>8036</td>\n",
       "      <td>7632.0</td>\n",
       "      <td>230</td>\n",
       "    </tr>\n",
       "    <tr>\n",
       "      <th>72086</th>\n",
       "      <td>2020-10-14</td>\n",
       "      <td>Zimbabwe</td>\n",
       "      <td>NaN</td>\n",
       "      <td>-19.015438</td>\n",
       "      <td>29.154857</td>\n",
       "      <td>8055</td>\n",
       "      <td>7640.0</td>\n",
       "      <td>231</td>\n",
       "    </tr>\n",
       "    <tr>\n",
       "      <th>72087</th>\n",
       "      <td>2020-10-15</td>\n",
       "      <td>Zimbabwe</td>\n",
       "      <td>NaN</td>\n",
       "      <td>-19.015438</td>\n",
       "      <td>29.154857</td>\n",
       "      <td>8075</td>\n",
       "      <td>7669.0</td>\n",
       "      <td>231</td>\n",
       "    </tr>\n",
       "    <tr>\n",
       "      <th>72088</th>\n",
       "      <td>2020-10-16</td>\n",
       "      <td>Zimbabwe</td>\n",
       "      <td>NaN</td>\n",
       "      <td>-19.015438</td>\n",
       "      <td>29.154857</td>\n",
       "      <td>8099</td>\n",
       "      <td>7673.0</td>\n",
       "      <td>231</td>\n",
       "    </tr>\n",
       "    <tr>\n",
       "      <th>72089</th>\n",
       "      <td>2020-10-17</td>\n",
       "      <td>Zimbabwe</td>\n",
       "      <td>NaN</td>\n",
       "      <td>-19.015438</td>\n",
       "      <td>29.154857</td>\n",
       "      <td>8110</td>\n",
       "      <td>7673.0</td>\n",
       "      <td>231</td>\n",
       "    </tr>\n",
       "  </tbody>\n",
       "</table>\n",
       "<p>72090 rows × 8 columns</p>\n",
       "</div>"
      ],
      "text/plain": [
       "             Date Country/Region Province/State        Lat       Long  \\\n",
       "0      2020-01-22    Afghanistan            NaN  33.939110  67.709953   \n",
       "1      2020-01-23    Afghanistan            NaN  33.939110  67.709953   \n",
       "2      2020-01-24    Afghanistan            NaN  33.939110  67.709953   \n",
       "3      2020-01-25    Afghanistan            NaN  33.939110  67.709953   \n",
       "4      2020-01-26    Afghanistan            NaN  33.939110  67.709953   \n",
       "...           ...            ...            ...        ...        ...   \n",
       "72085  2020-10-13       Zimbabwe            NaN -19.015438  29.154857   \n",
       "72086  2020-10-14       Zimbabwe            NaN -19.015438  29.154857   \n",
       "72087  2020-10-15       Zimbabwe            NaN -19.015438  29.154857   \n",
       "72088  2020-10-16       Zimbabwe            NaN -19.015438  29.154857   \n",
       "72089  2020-10-17       Zimbabwe            NaN -19.015438  29.154857   \n",
       "\n",
       "       Confirmed  Recovered  Deaths  \n",
       "0              0        0.0       0  \n",
       "1              0        0.0       0  \n",
       "2              0        0.0       0  \n",
       "3              0        0.0       0  \n",
       "4              0        0.0       0  \n",
       "...          ...        ...     ...  \n",
       "72085       8036     7632.0     230  \n",
       "72086       8055     7640.0     231  \n",
       "72087       8075     7669.0     231  \n",
       "72088       8099     7673.0     231  \n",
       "72089       8110     7673.0     231  \n",
       "\n",
       "[72090 rows x 8 columns]"
      ]
     },
     "execution_count": 1,
     "metadata": {},
     "output_type": "execute_result"
    }
   ],
   "source": [
    "import pandas as pd\n",
    "df = pd.read_csv(r\"C:\\Users\\sk mobile zone\\Desktop\\time-series-19-covid-combined.csv\")\n",
    "df"
   ]
  },
  {
   "cell_type": "markdown",
   "id": "e993e739-ee74-4973-a6cc-2149eea593da",
   "metadata": {},
   "source": [
    "### 📄 Dataset Summary\n",
    "\n",
    "This dataset provides daily global COVID-19 records, including confirmed cases, deaths, and recoveries.  \n",
    "It contains data from various countries and regions along with location coordinates and dates.\n",
    "\n",
    "The dataset has 8 columns and over 10,000 rows, making it suitable for time-series analysis and trend visualization."
   ]
  },
  {
   "cell_type": "markdown",
   "id": "8ee66903-5930-46b8-8a2b-21ba9d9c30b0",
   "metadata": {},
   "source": [
    "### 📄 Column Discription\n",
    "\n",
    " This dataset is daily time series data of all the COVID 19 confirmed, recovered and death cases across different nations in the world. It consists of columns:\n",
    "\n",
    "Date <- From 22/01/2020 to the current date.\n",
    "\n",
    "\n",
    "Country/Region <- Countries affected by Covid-19.\n",
    "\n",
    " \n",
    "Province/State <- Specific states in the Country.\n",
    "\n",
    "Lat <- Latitude of the Country.\n",
    "\n",
    "Long <- Longitude of the Country.\n",
    "\n",
    "Confirmed <- Total Number of Confirmed Cases per day.\n",
    "\n",
    "Recovered <- Total Number of Recovery Cases per day.\n",
    "\n",
    "Deaths <- Total Number of Death Cases per day.\n",
    "\n",
    "\n",
    "\n",
    "\n"
   ]
  },
  {
   "cell_type": "code",
   "execution_count": 2,
   "id": "a5f56cf3-4a48-44be-8aed-fdc6f174e315",
   "metadata": {},
   "outputs": [
    {
     "data": {
      "text/html": [
       "<div>\n",
       "<style scoped>\n",
       "    .dataframe tbody tr th:only-of-type {\n",
       "        vertical-align: middle;\n",
       "    }\n",
       "\n",
       "    .dataframe tbody tr th {\n",
       "        vertical-align: top;\n",
       "    }\n",
       "\n",
       "    .dataframe thead th {\n",
       "        text-align: right;\n",
       "    }\n",
       "</style>\n",
       "<table border=\"1\" class=\"dataframe\">\n",
       "  <thead>\n",
       "    <tr style=\"text-align: right;\">\n",
       "      <th></th>\n",
       "      <th>Date</th>\n",
       "      <th>Country/Region</th>\n",
       "      <th>Province/State</th>\n",
       "      <th>Lat</th>\n",
       "      <th>Long</th>\n",
       "      <th>Confirmed</th>\n",
       "      <th>Recovered</th>\n",
       "      <th>Deaths</th>\n",
       "    </tr>\n",
       "  </thead>\n",
       "  <tbody>\n",
       "    <tr>\n",
       "      <th>0</th>\n",
       "      <td>2020-01-22</td>\n",
       "      <td>Afghanistan</td>\n",
       "      <td>NaN</td>\n",
       "      <td>33.93911</td>\n",
       "      <td>67.709953</td>\n",
       "      <td>0</td>\n",
       "      <td>0.0</td>\n",
       "      <td>0</td>\n",
       "    </tr>\n",
       "    <tr>\n",
       "      <th>1</th>\n",
       "      <td>2020-01-23</td>\n",
       "      <td>Afghanistan</td>\n",
       "      <td>NaN</td>\n",
       "      <td>33.93911</td>\n",
       "      <td>67.709953</td>\n",
       "      <td>0</td>\n",
       "      <td>0.0</td>\n",
       "      <td>0</td>\n",
       "    </tr>\n",
       "    <tr>\n",
       "      <th>2</th>\n",
       "      <td>2020-01-24</td>\n",
       "      <td>Afghanistan</td>\n",
       "      <td>NaN</td>\n",
       "      <td>33.93911</td>\n",
       "      <td>67.709953</td>\n",
       "      <td>0</td>\n",
       "      <td>0.0</td>\n",
       "      <td>0</td>\n",
       "    </tr>\n",
       "    <tr>\n",
       "      <th>3</th>\n",
       "      <td>2020-01-25</td>\n",
       "      <td>Afghanistan</td>\n",
       "      <td>NaN</td>\n",
       "      <td>33.93911</td>\n",
       "      <td>67.709953</td>\n",
       "      <td>0</td>\n",
       "      <td>0.0</td>\n",
       "      <td>0</td>\n",
       "    </tr>\n",
       "    <tr>\n",
       "      <th>4</th>\n",
       "      <td>2020-01-26</td>\n",
       "      <td>Afghanistan</td>\n",
       "      <td>NaN</td>\n",
       "      <td>33.93911</td>\n",
       "      <td>67.709953</td>\n",
       "      <td>0</td>\n",
       "      <td>0.0</td>\n",
       "      <td>0</td>\n",
       "    </tr>\n",
       "  </tbody>\n",
       "</table>\n",
       "</div>"
      ],
      "text/plain": [
       "         Date Country/Region Province/State       Lat       Long  Confirmed  \\\n",
       "0  2020-01-22    Afghanistan            NaN  33.93911  67.709953          0   \n",
       "1  2020-01-23    Afghanistan            NaN  33.93911  67.709953          0   \n",
       "2  2020-01-24    Afghanistan            NaN  33.93911  67.709953          0   \n",
       "3  2020-01-25    Afghanistan            NaN  33.93911  67.709953          0   \n",
       "4  2020-01-26    Afghanistan            NaN  33.93911  67.709953          0   \n",
       "\n",
       "   Recovered  Deaths  \n",
       "0        0.0       0  \n",
       "1        0.0       0  \n",
       "2        0.0       0  \n",
       "3        0.0       0  \n",
       "4        0.0       0  "
      ]
     },
     "execution_count": 2,
     "metadata": {},
     "output_type": "execute_result"
    }
   ],
   "source": [
    "df.head()"
   ]
  },
  {
   "cell_type": "code",
   "execution_count": 3,
   "id": "0f748eab-2ac4-40cf-bdb9-d0a30971a0ae",
   "metadata": {},
   "outputs": [
    {
     "name": "stdout",
     "output_type": "stream",
     "text": [
      "<class 'pandas.core.frame.DataFrame'>\n",
      "RangeIndex: 72090 entries, 0 to 72089\n",
      "Data columns (total 8 columns):\n",
      " #   Column          Non-Null Count  Dtype  \n",
      "---  ------          --------------  -----  \n",
      " 0   Date            72090 non-null  object \n",
      " 1   Country/Region  72090 non-null  object \n",
      " 2   Province/State  21870 non-null  object \n",
      " 3   Lat             72090 non-null  float64\n",
      " 4   Long            72090 non-null  float64\n",
      " 5   Confirmed       72090 non-null  int64  \n",
      " 6   Recovered       68310 non-null  float64\n",
      " 7   Deaths          72090 non-null  int64  \n",
      "dtypes: float64(3), int64(2), object(3)\n",
      "memory usage: 4.4+ MB\n"
     ]
    }
   ],
   "source": [
    "df.info()"
   ]
  },
  {
   "cell_type": "code",
   "execution_count": 4,
   "id": "23a2756c-4c7b-4ae0-8f0f-9b83aadcdf38",
   "metadata": {},
   "outputs": [
    {
     "data": {
      "text/plain": [
       "Index(['Date', 'Country/Region', 'Province/State', 'Lat', 'Long', 'Confirmed',\n",
       "       'Recovered', 'Deaths'],\n",
       "      dtype='object')"
      ]
     },
     "execution_count": 4,
     "metadata": {},
     "output_type": "execute_result"
    }
   ],
   "source": [
    "df.columns"
   ]
  },
  {
   "cell_type": "code",
   "execution_count": 5,
   "id": "edfa844b-8292-450d-b01d-edaa4fa2f51c",
   "metadata": {},
   "outputs": [
    {
     "data": {
      "text/plain": [
       "Date                  0\n",
       "Country/Region        0\n",
       "Province/State    50220\n",
       "Lat                   0\n",
       "Long                  0\n",
       "Confirmed             0\n",
       "Recovered          3780\n",
       "Deaths                0\n",
       "dtype: int64"
      ]
     },
     "execution_count": 5,
     "metadata": {},
     "output_type": "execute_result"
    }
   ],
   "source": [
    "df.isnull().sum()"
   ]
  },
  {
   "cell_type": "code",
   "execution_count": 6,
   "id": "abf7081d-0162-48f3-b62c-a02898aa9bde",
   "metadata": {},
   "outputs": [
    {
     "data": {
      "text/plain": [
       "0"
      ]
     },
     "execution_count": 6,
     "metadata": {},
     "output_type": "execute_result"
    }
   ],
   "source": [
    "df.duplicated().sum()"
   ]
  },
  {
   "cell_type": "markdown",
   "id": "1fcb6372-851a-4c5c-b596-b2d4cf0e6e93",
   "metadata": {},
   "source": [
    "## ⚠ Data Issues Identified\n",
    "\n",
    "- Some values in Province/State and Recovered columns are missing (found via isnull().sum()).\n",
    "- Date column is in object format and needs to be converted to datetime (found via df.info()).\n",
    "- Dataset may contain duplicate rows (check with df.duplicated().sum()).\n",
    "- Column names like Country/Region are long and can be simplified."
   ]
  },
  {
   "cell_type": "markdown",
   "id": "c6ebe6e0-589d-4dba-8c42-7cd9949a6cf9",
   "metadata": {},
   "source": [
    "### 🧹  Step 2 : Data Cleaning\n",
    "Below are the steps taken to clean and prepare the dataset for analysis."
   ]
  },
  {
   "cell_type": "code",
   "execution_count": 7,
   "id": "3a667ab0-db45-43e7-badc-fb5d694f2687",
   "metadata": {},
   "outputs": [],
   "source": [
    "# Convert \"Date\" from object to datetime format for time based analysis \n",
    "df[\"Date\"] = pd.to_datetime(df[\"Date\"])"
   ]
  },
  {
   "cell_type": "code",
   "execution_count": 8,
   "id": "96ce227f-f800-4637-8874-9bc70989c63d",
   "metadata": {},
   "outputs": [
    {
     "name": "stdout",
     "output_type": "stream",
     "text": [
      "<class 'pandas.core.frame.DataFrame'>\n",
      "RangeIndex: 72090 entries, 0 to 72089\n",
      "Data columns (total 8 columns):\n",
      " #   Column          Non-Null Count  Dtype         \n",
      "---  ------          --------------  -----         \n",
      " 0   Date            72090 non-null  datetime64[ns]\n",
      " 1   Country/Region  72090 non-null  object        \n",
      " 2   Province/State  21870 non-null  object        \n",
      " 3   Lat             72090 non-null  float64       \n",
      " 4   Long            72090 non-null  float64       \n",
      " 5   Confirmed       72090 non-null  int64         \n",
      " 6   Recovered       68310 non-null  float64       \n",
      " 7   Deaths          72090 non-null  int64         \n",
      "dtypes: datetime64[ns](1), float64(3), int64(2), object(2)\n",
      "memory usage: 4.4+ MB\n"
     ]
    }
   ],
   "source": [
    "df.info()"
   ]
  },
  {
   "cell_type": "code",
   "execution_count": 9,
   "id": "bd98483c-e0de-46ff-b359-0cc86cdebf7b",
   "metadata": {},
   "outputs": [
    {
     "data": {
      "text/plain": [
       "Index(['Date', 'Country/Region', 'Province/State', 'Lat', 'Long', 'Confirmed',\n",
       "       'Recovered', 'Deaths'],\n",
       "      dtype='object')"
      ]
     },
     "execution_count": 9,
     "metadata": {},
     "output_type": "execute_result"
    }
   ],
   "source": [
    "df.columns"
   ]
  },
  {
   "cell_type": "code",
   "execution_count": 10,
   "id": "f90c3056-3d7d-4895-8270-4d8b827f23af",
   "metadata": {},
   "outputs": [],
   "source": [
    "# rename columns for clarity and easier refrence\n",
    "df.rename(columns = {\n",
    "    \"Country/Region\":\"Country\",\n",
    "    \"Province/State\":\"Province\"\n",
    "}, inplace=True)"
   ]
  },
  {
   "cell_type": "code",
   "execution_count": 11,
   "id": "83cacc7b-53d6-4475-badf-d8a8bd987588",
   "metadata": {},
   "outputs": [
    {
     "data": {
      "text/plain": [
       "Index(['Date', 'Country', 'Province', 'Lat', 'Long', 'Confirmed', 'Recovered',\n",
       "       'Deaths'],\n",
       "      dtype='object')"
      ]
     },
     "execution_count": 11,
     "metadata": {},
     "output_type": "execute_result"
    }
   ],
   "source": [
    "df.columns\n"
   ]
  },
  {
   "cell_type": "code",
   "execution_count": 12,
   "id": "1a522ccf-a74e-46e8-9117-98e14cc0c1e2",
   "metadata": {},
   "outputs": [],
   "source": [
    "# Fill missing values in 'Recovered' with 0 (assumes unreported = 0)\n",
    "df['Recovered'] = df['Recovered'].fillna(0)\n",
    "\n",
    "# Fill missing province names with 'Unknown' to maintain consistency across all rows\n",
    "\n",
    "df['Province'] = df['Province'].fillna('Unknown')"
   ]
  },
  {
   "cell_type": "code",
   "execution_count": 13,
   "id": "35a128c1-3dcc-48c2-81fc-c3e59e948ae2",
   "metadata": {},
   "outputs": [
    {
     "data": {
      "text/html": [
       "<div>\n",
       "<style scoped>\n",
       "    .dataframe tbody tr th:only-of-type {\n",
       "        vertical-align: middle;\n",
       "    }\n",
       "\n",
       "    .dataframe tbody tr th {\n",
       "        vertical-align: top;\n",
       "    }\n",
       "\n",
       "    .dataframe thead th {\n",
       "        text-align: right;\n",
       "    }\n",
       "</style>\n",
       "<table border=\"1\" class=\"dataframe\">\n",
       "  <thead>\n",
       "    <tr style=\"text-align: right;\">\n",
       "      <th></th>\n",
       "      <th>Date</th>\n",
       "      <th>Country</th>\n",
       "      <th>Province</th>\n",
       "      <th>Lat</th>\n",
       "      <th>Long</th>\n",
       "      <th>Confirmed</th>\n",
       "      <th>Recovered</th>\n",
       "      <th>Deaths</th>\n",
       "    </tr>\n",
       "  </thead>\n",
       "  <tbody>\n",
       "    <tr>\n",
       "      <th>0</th>\n",
       "      <td>2020-01-22</td>\n",
       "      <td>Afghanistan</td>\n",
       "      <td>Unknown</td>\n",
       "      <td>33.939110</td>\n",
       "      <td>67.709953</td>\n",
       "      <td>0</td>\n",
       "      <td>0.0</td>\n",
       "      <td>0</td>\n",
       "    </tr>\n",
       "    <tr>\n",
       "      <th>1</th>\n",
       "      <td>2020-01-23</td>\n",
       "      <td>Afghanistan</td>\n",
       "      <td>Unknown</td>\n",
       "      <td>33.939110</td>\n",
       "      <td>67.709953</td>\n",
       "      <td>0</td>\n",
       "      <td>0.0</td>\n",
       "      <td>0</td>\n",
       "    </tr>\n",
       "    <tr>\n",
       "      <th>2</th>\n",
       "      <td>2020-01-24</td>\n",
       "      <td>Afghanistan</td>\n",
       "      <td>Unknown</td>\n",
       "      <td>33.939110</td>\n",
       "      <td>67.709953</td>\n",
       "      <td>0</td>\n",
       "      <td>0.0</td>\n",
       "      <td>0</td>\n",
       "    </tr>\n",
       "    <tr>\n",
       "      <th>3</th>\n",
       "      <td>2020-01-25</td>\n",
       "      <td>Afghanistan</td>\n",
       "      <td>Unknown</td>\n",
       "      <td>33.939110</td>\n",
       "      <td>67.709953</td>\n",
       "      <td>0</td>\n",
       "      <td>0.0</td>\n",
       "      <td>0</td>\n",
       "    </tr>\n",
       "    <tr>\n",
       "      <th>4</th>\n",
       "      <td>2020-01-26</td>\n",
       "      <td>Afghanistan</td>\n",
       "      <td>Unknown</td>\n",
       "      <td>33.939110</td>\n",
       "      <td>67.709953</td>\n",
       "      <td>0</td>\n",
       "      <td>0.0</td>\n",
       "      <td>0</td>\n",
       "    </tr>\n",
       "    <tr>\n",
       "      <th>...</th>\n",
       "      <td>...</td>\n",
       "      <td>...</td>\n",
       "      <td>...</td>\n",
       "      <td>...</td>\n",
       "      <td>...</td>\n",
       "      <td>...</td>\n",
       "      <td>...</td>\n",
       "      <td>...</td>\n",
       "    </tr>\n",
       "    <tr>\n",
       "      <th>72085</th>\n",
       "      <td>2020-10-13</td>\n",
       "      <td>Zimbabwe</td>\n",
       "      <td>Unknown</td>\n",
       "      <td>-19.015438</td>\n",
       "      <td>29.154857</td>\n",
       "      <td>8036</td>\n",
       "      <td>7632.0</td>\n",
       "      <td>230</td>\n",
       "    </tr>\n",
       "    <tr>\n",
       "      <th>72086</th>\n",
       "      <td>2020-10-14</td>\n",
       "      <td>Zimbabwe</td>\n",
       "      <td>Unknown</td>\n",
       "      <td>-19.015438</td>\n",
       "      <td>29.154857</td>\n",
       "      <td>8055</td>\n",
       "      <td>7640.0</td>\n",
       "      <td>231</td>\n",
       "    </tr>\n",
       "    <tr>\n",
       "      <th>72087</th>\n",
       "      <td>2020-10-15</td>\n",
       "      <td>Zimbabwe</td>\n",
       "      <td>Unknown</td>\n",
       "      <td>-19.015438</td>\n",
       "      <td>29.154857</td>\n",
       "      <td>8075</td>\n",
       "      <td>7669.0</td>\n",
       "      <td>231</td>\n",
       "    </tr>\n",
       "    <tr>\n",
       "      <th>72088</th>\n",
       "      <td>2020-10-16</td>\n",
       "      <td>Zimbabwe</td>\n",
       "      <td>Unknown</td>\n",
       "      <td>-19.015438</td>\n",
       "      <td>29.154857</td>\n",
       "      <td>8099</td>\n",
       "      <td>7673.0</td>\n",
       "      <td>231</td>\n",
       "    </tr>\n",
       "    <tr>\n",
       "      <th>72089</th>\n",
       "      <td>2020-10-17</td>\n",
       "      <td>Zimbabwe</td>\n",
       "      <td>Unknown</td>\n",
       "      <td>-19.015438</td>\n",
       "      <td>29.154857</td>\n",
       "      <td>8110</td>\n",
       "      <td>7673.0</td>\n",
       "      <td>231</td>\n",
       "    </tr>\n",
       "  </tbody>\n",
       "</table>\n",
       "<p>72090 rows × 8 columns</p>\n",
       "</div>"
      ],
      "text/plain": [
       "            Date      Country Province        Lat       Long  Confirmed  \\\n",
       "0     2020-01-22  Afghanistan  Unknown  33.939110  67.709953          0   \n",
       "1     2020-01-23  Afghanistan  Unknown  33.939110  67.709953          0   \n",
       "2     2020-01-24  Afghanistan  Unknown  33.939110  67.709953          0   \n",
       "3     2020-01-25  Afghanistan  Unknown  33.939110  67.709953          0   \n",
       "4     2020-01-26  Afghanistan  Unknown  33.939110  67.709953          0   \n",
       "...          ...          ...      ...        ...        ...        ...   \n",
       "72085 2020-10-13     Zimbabwe  Unknown -19.015438  29.154857       8036   \n",
       "72086 2020-10-14     Zimbabwe  Unknown -19.015438  29.154857       8055   \n",
       "72087 2020-10-15     Zimbabwe  Unknown -19.015438  29.154857       8075   \n",
       "72088 2020-10-16     Zimbabwe  Unknown -19.015438  29.154857       8099   \n",
       "72089 2020-10-17     Zimbabwe  Unknown -19.015438  29.154857       8110   \n",
       "\n",
       "       Recovered  Deaths  \n",
       "0            0.0       0  \n",
       "1            0.0       0  \n",
       "2            0.0       0  \n",
       "3            0.0       0  \n",
       "4            0.0       0  \n",
       "...          ...     ...  \n",
       "72085     7632.0     230  \n",
       "72086     7640.0     231  \n",
       "72087     7669.0     231  \n",
       "72088     7673.0     231  \n",
       "72089     7673.0     231  \n",
       "\n",
       "[72090 rows x 8 columns]"
      ]
     },
     "execution_count": 13,
     "metadata": {},
     "output_type": "execute_result"
    }
   ],
   "source": [
    "df"
   ]
  },
  {
   "cell_type": "code",
   "execution_count": 31,
   "id": "3aba0a18-f375-4a42-a03b-b1c73fa5ad04",
   "metadata": {},
   "outputs": [
    {
     "name": "stdout",
     "output_type": "stream",
     "text": [
      "Missing values in 'Recovered' after filling:\n",
      "0\n"
     ]
    }
   ],
   "source": [
    "# After filling\n",
    "print(\"Missing values in 'Recovered' after filling:\")\n",
    "print(df['Recovered'].isnull().sum())"
   ]
  },
  {
   "cell_type": "code",
   "execution_count": 32,
   "id": "926be430-fe8e-4951-b9bc-1a7f6ee05060",
   "metadata": {},
   "outputs": [
    {
     "name": "stdout",
     "output_type": "stream",
     "text": [
      "Province value counts (after filling missing with 'Unknown'):\n",
      "Province\n",
      "Unknown             50220\n",
      "Martinique            270\n",
      "French Polynesia      270\n",
      "French Guiana         270\n",
      "Greenland             270\n",
      "Name: count, dtype: int64\n"
     ]
    }
   ],
   "source": [
    "# After filling: count how many rows now have 'Unknown'\n",
    "print(\"Province value counts (after filling missing with 'Unknown'):\")\n",
    "print(df['Province'].value_counts().head())"
   ]
  },
  {
   "cell_type": "code",
   "execution_count": 33,
   "id": "4be411f9-08f7-4adb-a0ad-0db023a88dca",
   "metadata": {},
   "outputs": [],
   "source": [
    "#removes duplicates rows \n",
    "df=df.drop_duplicates()"
   ]
  },
  {
   "cell_type": "code",
   "execution_count": 34,
   "id": "941c131e-77fc-465d-947a-ce5327548f41",
   "metadata": {},
   "outputs": [
    {
     "data": {
      "text/plain": [
       "Date         0\n",
       "Country      0\n",
       "Province     0\n",
       "Lat          0\n",
       "Long         0\n",
       "Confirmed    0\n",
       "Recovered    0\n",
       "Deaths       0\n",
       "dtype: int64"
      ]
     },
     "execution_count": 34,
     "metadata": {},
     "output_type": "execute_result"
    }
   ],
   "source": [
    "df.isnull().sum()"
   ]
  },
  {
   "cell_type": "code",
   "execution_count": 35,
   "id": "a8d47a3c-c229-4719-be98-83f5ac752e65",
   "metadata": {},
   "outputs": [
    {
     "data": {
      "text/plain": [
       "0"
      ]
     },
     "execution_count": 35,
     "metadata": {},
     "output_type": "execute_result"
    }
   ],
   "source": [
    "df.duplicated().sum()"
   ]
  },
  {
   "cell_type": "code",
   "execution_count": 36,
   "id": "1a02ebeb-ffeb-4586-b6a6-1accbf8cbf23",
   "metadata": {},
   "outputs": [
    {
     "name": "stdout",
     "output_type": "stream",
     "text": [
      "<class 'pandas.core.frame.DataFrame'>\n",
      "RangeIndex: 72090 entries, 0 to 72089\n",
      "Data columns (total 8 columns):\n",
      " #   Column     Non-Null Count  Dtype         \n",
      "---  ------     --------------  -----         \n",
      " 0   Date       72090 non-null  datetime64[ns]\n",
      " 1   Country    72090 non-null  object        \n",
      " 2   Province   72090 non-null  object        \n",
      " 3   Lat        72090 non-null  float64       \n",
      " 4   Long       72090 non-null  float64       \n",
      " 5   Confirmed  72090 non-null  int64         \n",
      " 6   Recovered  72090 non-null  float64       \n",
      " 7   Deaths     72090 non-null  int64         \n",
      "dtypes: datetime64[ns](1), float64(3), int64(2), object(2)\n",
      "memory usage: 4.4+ MB\n"
     ]
    }
   ],
   "source": [
    "df.info()"
   ]
  },
  {
   "cell_type": "code",
   "execution_count": 37,
   "id": "15e876ea-cd68-4561-ad67-53207106e2bf",
   "metadata": {},
   "outputs": [
    {
     "data": {
      "text/html": [
       "<div>\n",
       "<style scoped>\n",
       "    .dataframe tbody tr th:only-of-type {\n",
       "        vertical-align: middle;\n",
       "    }\n",
       "\n",
       "    .dataframe tbody tr th {\n",
       "        vertical-align: top;\n",
       "    }\n",
       "\n",
       "    .dataframe thead th {\n",
       "        text-align: right;\n",
       "    }\n",
       "</style>\n",
       "<table border=\"1\" class=\"dataframe\">\n",
       "  <thead>\n",
       "    <tr style=\"text-align: right;\">\n",
       "      <th></th>\n",
       "      <th>Date</th>\n",
       "      <th>Country</th>\n",
       "      <th>Province</th>\n",
       "      <th>Lat</th>\n",
       "      <th>Long</th>\n",
       "      <th>Confirmed</th>\n",
       "      <th>Recovered</th>\n",
       "      <th>Deaths</th>\n",
       "    </tr>\n",
       "  </thead>\n",
       "  <tbody>\n",
       "    <tr>\n",
       "      <th>0</th>\n",
       "      <td>2020-01-22</td>\n",
       "      <td>Afghanistan</td>\n",
       "      <td>Unknown</td>\n",
       "      <td>33.93911</td>\n",
       "      <td>67.709953</td>\n",
       "      <td>0</td>\n",
       "      <td>0.0</td>\n",
       "      <td>0</td>\n",
       "    </tr>\n",
       "    <tr>\n",
       "      <th>1</th>\n",
       "      <td>2020-01-23</td>\n",
       "      <td>Afghanistan</td>\n",
       "      <td>Unknown</td>\n",
       "      <td>33.93911</td>\n",
       "      <td>67.709953</td>\n",
       "      <td>0</td>\n",
       "      <td>0.0</td>\n",
       "      <td>0</td>\n",
       "    </tr>\n",
       "    <tr>\n",
       "      <th>2</th>\n",
       "      <td>2020-01-24</td>\n",
       "      <td>Afghanistan</td>\n",
       "      <td>Unknown</td>\n",
       "      <td>33.93911</td>\n",
       "      <td>67.709953</td>\n",
       "      <td>0</td>\n",
       "      <td>0.0</td>\n",
       "      <td>0</td>\n",
       "    </tr>\n",
       "    <tr>\n",
       "      <th>3</th>\n",
       "      <td>2020-01-25</td>\n",
       "      <td>Afghanistan</td>\n",
       "      <td>Unknown</td>\n",
       "      <td>33.93911</td>\n",
       "      <td>67.709953</td>\n",
       "      <td>0</td>\n",
       "      <td>0.0</td>\n",
       "      <td>0</td>\n",
       "    </tr>\n",
       "    <tr>\n",
       "      <th>4</th>\n",
       "      <td>2020-01-26</td>\n",
       "      <td>Afghanistan</td>\n",
       "      <td>Unknown</td>\n",
       "      <td>33.93911</td>\n",
       "      <td>67.709953</td>\n",
       "      <td>0</td>\n",
       "      <td>0.0</td>\n",
       "      <td>0</td>\n",
       "    </tr>\n",
       "  </tbody>\n",
       "</table>\n",
       "</div>"
      ],
      "text/plain": [
       "        Date      Country Province       Lat       Long  Confirmed  Recovered  \\\n",
       "0 2020-01-22  Afghanistan  Unknown  33.93911  67.709953          0        0.0   \n",
       "1 2020-01-23  Afghanistan  Unknown  33.93911  67.709953          0        0.0   \n",
       "2 2020-01-24  Afghanistan  Unknown  33.93911  67.709953          0        0.0   \n",
       "3 2020-01-25  Afghanistan  Unknown  33.93911  67.709953          0        0.0   \n",
       "4 2020-01-26  Afghanistan  Unknown  33.93911  67.709953          0        0.0   \n",
       "\n",
       "   Deaths  \n",
       "0       0  \n",
       "1       0  \n",
       "2       0  \n",
       "3       0  \n",
       "4       0  "
      ]
     },
     "execution_count": 37,
     "metadata": {},
     "output_type": "execute_result"
    }
   ],
   "source": [
    "df.head()"
   ]
  },
  {
   "cell_type": "markdown",
   "id": "67c1957a-b86e-483f-88a8-5e0afb58d54d",
   "metadata": {},
   "source": [
    "## Step 3 Perform EDA Use Python (Pandas, NumPy, Seaborn, Matplotlib) or another data tool of your choice. Address:"
   ]
  },
  {
   "cell_type": "markdown",
   "id": "fdda40b0-e436-4780-a6f4-94da03067c7a",
   "metadata": {},
   "source": [
    "What Is EDA (Exploratory Data Analysis)?\n",
    "\n",
    "EDA helps you:\n",
    "\n",
    "Understand your data\n",
    "\n",
    "Find trends, patterns, and outliers\n",
    "\n",
    "Check relationships between features\n",
    "\n",
    "Prepare insights before building any model or drawing conclusions"
   ]
  },
  {
   "cell_type": "markdown",
   "id": "1c52cf58-1c79-4e1a-a040-b085de4cb9f0",
   "metadata": {},
   "source": [
    "## 1.What does the dataset describe?\n",
    "The dataset provides a global time series of COVID-19 cases, including daily information about Confirmed cases, Deaths, Recoveries, and geographical data (Country, Province, Latitude, Longitude). It allows analysis of the pandemic's spread across time and location."
   ]
  },
  {
   "cell_type": "code",
   "execution_count": 38,
   "id": "bc6c7e32-450d-4ba5-9ece-879b3048bd55",
   "metadata": {},
   "outputs": [
    {
     "name": "stdout",
     "output_type": "stream",
     "text": [
      "<class 'pandas.core.frame.DataFrame'>\n",
      "RangeIndex: 72090 entries, 0 to 72089\n",
      "Data columns (total 8 columns):\n",
      " #   Column     Non-Null Count  Dtype         \n",
      "---  ------     --------------  -----         \n",
      " 0   Date       72090 non-null  datetime64[ns]\n",
      " 1   Country    72090 non-null  object        \n",
      " 2   Province   72090 non-null  object        \n",
      " 3   Lat        72090 non-null  float64       \n",
      " 4   Long       72090 non-null  float64       \n",
      " 5   Confirmed  72090 non-null  int64         \n",
      " 6   Recovered  72090 non-null  float64       \n",
      " 7   Deaths     72090 non-null  int64         \n",
      "dtypes: datetime64[ns](1), float64(3), int64(2), object(2)\n",
      "memory usage: 4.4+ MB\n"
     ]
    }
   ],
   "source": [
    "# View basic structure\n",
    "df.info()\n"
   ]
  },
  {
   "cell_type": "code",
   "execution_count": 39,
   "id": "1962efe4-a2b7-4784-bd7f-820d334dd19e",
   "metadata": {},
   "outputs": [
    {
     "data": {
      "text/html": [
       "<div>\n",
       "<style scoped>\n",
       "    .dataframe tbody tr th:only-of-type {\n",
       "        vertical-align: middle;\n",
       "    }\n",
       "\n",
       "    .dataframe tbody tr th {\n",
       "        vertical-align: top;\n",
       "    }\n",
       "\n",
       "    .dataframe thead th {\n",
       "        text-align: right;\n",
       "    }\n",
       "</style>\n",
       "<table border=\"1\" class=\"dataframe\">\n",
       "  <thead>\n",
       "    <tr style=\"text-align: right;\">\n",
       "      <th></th>\n",
       "      <th>Date</th>\n",
       "      <th>Country</th>\n",
       "      <th>Province</th>\n",
       "      <th>Lat</th>\n",
       "      <th>Long</th>\n",
       "      <th>Confirmed</th>\n",
       "      <th>Recovered</th>\n",
       "      <th>Deaths</th>\n",
       "    </tr>\n",
       "  </thead>\n",
       "  <tbody>\n",
       "    <tr>\n",
       "      <th>0</th>\n",
       "      <td>2020-01-22</td>\n",
       "      <td>Afghanistan</td>\n",
       "      <td>Unknown</td>\n",
       "      <td>33.93911</td>\n",
       "      <td>67.709953</td>\n",
       "      <td>0</td>\n",
       "      <td>0.0</td>\n",
       "      <td>0</td>\n",
       "    </tr>\n",
       "    <tr>\n",
       "      <th>1</th>\n",
       "      <td>2020-01-23</td>\n",
       "      <td>Afghanistan</td>\n",
       "      <td>Unknown</td>\n",
       "      <td>33.93911</td>\n",
       "      <td>67.709953</td>\n",
       "      <td>0</td>\n",
       "      <td>0.0</td>\n",
       "      <td>0</td>\n",
       "    </tr>\n",
       "    <tr>\n",
       "      <th>2</th>\n",
       "      <td>2020-01-24</td>\n",
       "      <td>Afghanistan</td>\n",
       "      <td>Unknown</td>\n",
       "      <td>33.93911</td>\n",
       "      <td>67.709953</td>\n",
       "      <td>0</td>\n",
       "      <td>0.0</td>\n",
       "      <td>0</td>\n",
       "    </tr>\n",
       "    <tr>\n",
       "      <th>3</th>\n",
       "      <td>2020-01-25</td>\n",
       "      <td>Afghanistan</td>\n",
       "      <td>Unknown</td>\n",
       "      <td>33.93911</td>\n",
       "      <td>67.709953</td>\n",
       "      <td>0</td>\n",
       "      <td>0.0</td>\n",
       "      <td>0</td>\n",
       "    </tr>\n",
       "    <tr>\n",
       "      <th>4</th>\n",
       "      <td>2020-01-26</td>\n",
       "      <td>Afghanistan</td>\n",
       "      <td>Unknown</td>\n",
       "      <td>33.93911</td>\n",
       "      <td>67.709953</td>\n",
       "      <td>0</td>\n",
       "      <td>0.0</td>\n",
       "      <td>0</td>\n",
       "    </tr>\n",
       "  </tbody>\n",
       "</table>\n",
       "</div>"
      ],
      "text/plain": [
       "        Date      Country Province       Lat       Long  Confirmed  Recovered  \\\n",
       "0 2020-01-22  Afghanistan  Unknown  33.93911  67.709953          0        0.0   \n",
       "1 2020-01-23  Afghanistan  Unknown  33.93911  67.709953          0        0.0   \n",
       "2 2020-01-24  Afghanistan  Unknown  33.93911  67.709953          0        0.0   \n",
       "3 2020-01-25  Afghanistan  Unknown  33.93911  67.709953          0        0.0   \n",
       "4 2020-01-26  Afghanistan  Unknown  33.93911  67.709953          0        0.0   \n",
       "\n",
       "   Deaths  \n",
       "0       0  \n",
       "1       0  \n",
       "2       0  \n",
       "3       0  \n",
       "4       0  "
      ]
     },
     "execution_count": 39,
     "metadata": {},
     "output_type": "execute_result"
    }
   ],
   "source": [
    "# Preview data\n",
    "df.head()\n",
    "\n"
   ]
  },
  {
   "cell_type": "code",
   "execution_count": 40,
   "id": "0c4b651a-34ce-43ec-85c7-276809037937",
   "metadata": {},
   "outputs": [
    {
     "data": {
      "text/html": [
       "<div>\n",
       "<style scoped>\n",
       "    .dataframe tbody tr th:only-of-type {\n",
       "        vertical-align: middle;\n",
       "    }\n",
       "\n",
       "    .dataframe tbody tr th {\n",
       "        vertical-align: top;\n",
       "    }\n",
       "\n",
       "    .dataframe thead th {\n",
       "        text-align: right;\n",
       "    }\n",
       "</style>\n",
       "<table border=\"1\" class=\"dataframe\">\n",
       "  <thead>\n",
       "    <tr style=\"text-align: right;\">\n",
       "      <th></th>\n",
       "      <th>Date</th>\n",
       "      <th>Lat</th>\n",
       "      <th>Long</th>\n",
       "      <th>Confirmed</th>\n",
       "      <th>Recovered</th>\n",
       "      <th>Deaths</th>\n",
       "    </tr>\n",
       "  </thead>\n",
       "  <tbody>\n",
       "    <tr>\n",
       "      <th>count</th>\n",
       "      <td>72090</td>\n",
       "      <td>72090.000000</td>\n",
       "      <td>72090.000000</td>\n",
       "      <td>7.209000e+04</td>\n",
       "      <td>7.209000e+04</td>\n",
       "      <td>72090.000000</td>\n",
       "    </tr>\n",
       "    <tr>\n",
       "      <th>mean</th>\n",
       "      <td>2020-06-04 12:00:00.000000256</td>\n",
       "      <td>20.961559</td>\n",
       "      <td>23.343773</td>\n",
       "      <td>4.284619e+04</td>\n",
       "      <td>2.615992e+04</td>\n",
       "      <td>1610.020807</td>\n",
       "    </tr>\n",
       "    <tr>\n",
       "      <th>min</th>\n",
       "      <td>2020-01-22 00:00:00</td>\n",
       "      <td>-51.796300</td>\n",
       "      <td>-135.000000</td>\n",
       "      <td>0.000000e+00</td>\n",
       "      <td>0.000000e+00</td>\n",
       "      <td>0.000000</td>\n",
       "    </tr>\n",
       "    <tr>\n",
       "      <th>25%</th>\n",
       "      <td>2020-03-29 00:00:00</td>\n",
       "      <td>6.428055</td>\n",
       "      <td>-15.310100</td>\n",
       "      <td>1.600000e+01</td>\n",
       "      <td>0.000000e+00</td>\n",
       "      <td>0.000000</td>\n",
       "    </tr>\n",
       "    <tr>\n",
       "      <th>50%</th>\n",
       "      <td>2020-06-04 12:00:00</td>\n",
       "      <td>22.300000</td>\n",
       "      <td>20.939400</td>\n",
       "      <td>4.400000e+02</td>\n",
       "      <td>1.620000e+02</td>\n",
       "      <td>6.000000</td>\n",
       "    </tr>\n",
       "    <tr>\n",
       "      <th>75%</th>\n",
       "      <td>2020-08-11 00:00:00</td>\n",
       "      <td>41.153300</td>\n",
       "      <td>80.771797</td>\n",
       "      <td>4.688750e+03</td>\n",
       "      <td>1.803750e+03</td>\n",
       "      <td>89.000000</td>\n",
       "    </tr>\n",
       "    <tr>\n",
       "      <th>max</th>\n",
       "      <td>2020-10-17 00:00:00</td>\n",
       "      <td>71.706900</td>\n",
       "      <td>178.065000</td>\n",
       "      <td>8.106384e+06</td>\n",
       "      <td>6.524595e+06</td>\n",
       "      <td>219286.000000</td>\n",
       "    </tr>\n",
       "    <tr>\n",
       "      <th>std</th>\n",
       "      <td>NaN</td>\n",
       "      <td>24.882193</td>\n",
       "      <td>70.429778</td>\n",
       "      <td>3.257632e+05</td>\n",
       "      <td>2.064383e+05</td>\n",
       "      <td>10272.269230</td>\n",
       "    </tr>\n",
       "  </tbody>\n",
       "</table>\n",
       "</div>"
      ],
      "text/plain": [
       "                                Date           Lat          Long  \\\n",
       "count                          72090  72090.000000  72090.000000   \n",
       "mean   2020-06-04 12:00:00.000000256     20.961559     23.343773   \n",
       "min              2020-01-22 00:00:00    -51.796300   -135.000000   \n",
       "25%              2020-03-29 00:00:00      6.428055    -15.310100   \n",
       "50%              2020-06-04 12:00:00     22.300000     20.939400   \n",
       "75%              2020-08-11 00:00:00     41.153300     80.771797   \n",
       "max              2020-10-17 00:00:00     71.706900    178.065000   \n",
       "std                              NaN     24.882193     70.429778   \n",
       "\n",
       "          Confirmed     Recovered         Deaths  \n",
       "count  7.209000e+04  7.209000e+04   72090.000000  \n",
       "mean   4.284619e+04  2.615992e+04    1610.020807  \n",
       "min    0.000000e+00  0.000000e+00       0.000000  \n",
       "25%    1.600000e+01  0.000000e+00       0.000000  \n",
       "50%    4.400000e+02  1.620000e+02       6.000000  \n",
       "75%    4.688750e+03  1.803750e+03      89.000000  \n",
       "max    8.106384e+06  6.524595e+06  219286.000000  \n",
       "std    3.257632e+05  2.064383e+05   10272.269230  "
      ]
     },
     "execution_count": 40,
     "metadata": {},
     "output_type": "execute_result"
    }
   ],
   "source": [
    "# Summary stats\n",
    "df.describe()"
   ]
  },
  {
   "cell_type": "markdown",
   "id": "52a569cf-7d74-4df7-9b4f-9d8f6be0c385",
   "metadata": {},
   "source": [
    "This dataset provides a day-by-day global summary of COVID-19 cases.  \n",
    "It includes details such as date, country, province, and the total number of confirmed, recovered, and death cases.  \n",
    "Each row represents data for one region on one specific date."
   ]
  },
  {
   "cell_type": "markdown",
   "id": "59a639ff-ef52-4ebc-9d69-302eacf32faa",
   "metadata": {},
   "source": [
    "## 2.What trends, patterns,or outliers exist?"
   ]
  },
  {
   "cell_type": "markdown",
   "id": "737fe66b-d5de-4a80-b876-f9b040bf5685",
   "metadata": {},
   "source": [
    "# A) Line Plot:  A view Case growth trend over time."
   ]
  },
  {
   "cell_type": "code",
   "execution_count": 41,
   "id": "36aaece8-3aec-45f7-b00f-500489d22aa6",
   "metadata": {},
   "outputs": [
    {
     "data": {
      "image/png": "[encoded data removed]",
      "text/plain": [
       "<Figure size 1000x500 with 1 Axes>"
      ]
     },
     "metadata": {},
     "output_type": "display_data"
    }
   ],
   "source": [
    "import matplotlib.pyplot as plt\n",
    "\n",
    "# Group data by Date and sum the Confirmed cases for each day\n",
    "trend_data = df.groupby('Date')['Confirmed'].sum()\n",
    "\n",
    "# Plot line chart to show trend\n",
    "plt.figure(figsize=(10, 5))\n",
    "plt.plot(trend_data.index, trend_data.values, color='blue')\n",
    "plt.title(\"Global Trend of Confirmed COVID-19 Cases Over Time\")\n",
    "plt.xlabel(\"Date\")\n",
    "plt.ylabel(\"Total Confirmed Cases\")\n",
    "plt.grid(True)\n",
    "plt.tight_layout()\n",
    "plt.show()"
   ]
  },
  {
   "cell_type": "markdown",
   "id": "4c7d540a-f306-4d40-892d-d483dceb67b5",
   "metadata": {},
   "source": [
    " \n",
    "This line graph helps us observe the trend of confirmed cases rising over time globally."
   ]
  },
  {
   "cell_type": "markdown",
   "id": "2f79d88e-4f18-429d-aba3-8c65b589c10f",
   "metadata": {},
   "source": [
    "## b) Bar Chart:Compare top 10 Countries By confirmed covid 19 cases."
   ]
  },
  {
   "cell_type": "code",
   "execution_count": 42,
   "id": "65b86566-d8b8-44aa-841b-30f043cab464",
   "metadata": {},
   "outputs": [
    {
     "data": {
      "image/png": "[encoded data removed]",
      "text/plain": [
       "<Figure size 1000x600 with 1 Axes>"
      ]
     },
     "metadata": {},
     "output_type": "display_data"
    }
   ],
   "source": [
    "import matplotlib.pyplot as plt\n",
    "\n",
    "# Step 1: Group by Country and sum the Confirmed cases\n",
    "confirmed_by_country = df.groupby('Country')['Confirmed'].sum()\n",
    "\n",
    "# Step 2: Sort countries by total confirmed cases (descending)\n",
    "top_10 = confirmed_by_country.sort_values(ascending=False).head(10)\n",
    "\n",
    "# Step 3: Plot the bar chart\n",
    "plt.figure(figsize=(10, 6))  # Set chart size\n",
    "top_10.plot(kind='bar', color='teal')\n",
    "\n",
    "# Step 4: Add title and labels\n",
    "plt.title(\"Top 10 Countries with Highest Confirmed COVID-19 Cases\")\n",
    "plt.xlabel(\"Country\")\n",
    "plt.ylabel(\"Total Confirmed Cases\")\n",
    "plt.xticks(rotation=45)\n",
    "plt.tight_layout()\n",
    "plt.show()"
   ]
  },
  {
   "cell_type": "markdown",
   "id": "7d6899bd-837e-4fc2-a6c5-d8c37ac42b0a",
   "metadata": {},
   "source": [
    "This bar chart shows the *top 10 countries* with the *highest number of confirmed COVID-19 cases* on the latest date in the dataset.  \n",
    "It shows the Pattern that some countries like USA, Brazil, India were much more affected than others."
   ]
  },
  {
   "cell_type": "markdown",
   "id": "a21ca19f-f8df-4883-bf24-a1df53c5f182",
   "metadata": {},
   "source": [
    "# Detect outliers with  Boxplot"
   ]
  },
  {
   "cell_type": "code",
   "execution_count": 43,
   "id": "f5010fee-3e42-424d-8665-1cc18e16ae0e",
   "metadata": {},
   "outputs": [
    {
     "data": {
      "image/png": "[encoded data removed]",
      "text/plain": [
       "<Figure size 1000x400 with 1 Axes>"
      ]
     },
     "metadata": {},
     "output_type": "display_data"
    }
   ],
   "source": [
    "import numpy as np\n",
    "import seaborn as sns\n",
    "import matplotlib.pyplot as plt\n",
    "\n",
    "# Add log scale to see large values better\n",
    "plt.figure(figsize=(10, 4))\n",
    "sns.boxplot(x=np.log1p(df['Confirmed']), color='orange')  # log1p avoids log(0) error\n",
    "plt.title(\"Boxplot of Confirmed Cases (Log Scale)\")\n",
    "plt.xlabel(\"Log of Confirmed Cases\")\n",
    "plt.show()"
   ]
  },
  {
   "cell_type": "markdown",
   "id": "4c74c538-5649-4df3-8799-fafb64a16111",
   "metadata": {},
   "source": [
    " ## C) Which features are correlated?\n"
   ]
  },
  {
   "cell_type": "code",
   "execution_count": 44,
   "id": "a81f10a0-11db-40a6-9ce1-34be90044e8c",
   "metadata": {},
   "outputs": [
    {
     "data": {
      "image/png": "[encoded data removed]",
      "text/plain": [
       "<Figure size 600x400 with 2 Axes>"
      ]
     },
     "metadata": {},
     "output_type": "display_data"
    }
   ],
   "source": [
    "# Select only numerical columns\n",
    "correlation_data = df[['Confirmed', 'Deaths', 'Recovered']]\n",
    "\n",
    "# Create a correlation heatmap\n",
    "plt.figure(figsize=(6, 4))\n",
    "sns.heatmap(correlation_data.corr(), annot=True, cmap='Blues')\n",
    "plt.title(\"Correlation Between COVID-19 Features\")\n",
    "plt.show()\n",
    "\n"
   ]
  },
  {
   "cell_type": "markdown",
   "id": "1dec0c32-a538-465e-bc5e-0fa9144b0312",
   "metadata": {},
   "source": [
    "What this shows:\n",
    "\n",
    "Confirmed & Deaths → strongly positively correlated\n",
    "\n",
    "Confirmed & Recovered → also positively correlated\n",
    "\n",
    "This means that more confirmed cases often result in more deaths and more recoveries."
   ]
  },
  {
   "cell_type": "code",
   "execution_count": 45,
   "id": "e7eaeea1-18d9-4b58-beb0-c897551f994e",
   "metadata": {},
   "outputs": [],
   "source": [
    "df.to_csv(\"Cleaned_covid_data.csv\",index= False)"
   ]
  },
  {
   "cell_type": "code",
   "execution_count": 46,
   "id": "15bdfd8e-8403-4c94-9446-734f42cb75f5",
   "metadata": {},
   "outputs": [
    {
     "name": "stdout",
     "output_type": "stream",
     "text": [
      "Saved: True\n"
     ]
    }
   ],
   "source": [
    "import os\n",
    "print(\"Saved:\", os.path.exists(\"cleaned_covid_data.csv\"))"
   ]
  },
  {
   "cell_type": "code",
   "execution_count": null,
   "id": "943023e6-66e8-4db5-b989-2743a2075b07",
   "metadata": {},
   "outputs": [],
   "source": []
  }
 ],
 "metadata": {
  "kernelspec": {
   "display_name": "Python 3 (ipykernel)",
   "language": "python",
   "name": "python3"
  },
  "language_info": {
   "codemirror_mode": {
    "name": "ipython",
    "version": 3
   },
   "file_extension": ".py",
   "mimetype": "text/x-python",
   "name": "python",
   "nbconvert_exporter": "python",
   "pygments_lexer": "ipython3",
   "version": "3.12.7"
  }
 },
 "nbformat": 4,
 "nbformat_minor": 5
}
